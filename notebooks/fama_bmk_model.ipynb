{
 "cells": [
  {
   "cell_type": "markdown",
   "metadata": {},
   "source": [
    "# Clearly Define Factor Universe\n",
    "\n",
    "## 5 factor fama french from wrds\n",
    "\n",
    "Size factor: smb\n",
    "\n",
    "Value: hml (Book-to-market)\n",
    "\n",
    "Profitability and Investment Factors: rmw (Robust minus weak profitability). cma (Conservative minus aggressive investment)\n",
    "\n",
    "Momentum Factor: umd (Momentum)\n",
    "\n",
    "Market Factor: mktrf (Market excess returns)\n",
    "\n",
    "## from ken.french\n",
    "\n",
    "https://mba.tuck.dartmouth.edu/pages/faculty/ken.french/data_library.html \n",
    "\n",
    "Value/Growth Factors: E/P (Earnings/price), CF/P (Cashflow/Price), D/P (Dividend Yield), Net Share Issues\n",
    "Quality: Operating Profitability, Investment, Accruals\n",
    "Risk: Market Beta， Daily Variance, and Daily Residual Variance\n",
    "reversal: short-term reversal, long-term reversal"
   ]
  },
  {
   "cell_type": "code",
   "execution_count": 33,
   "metadata": {},
   "outputs": [],
   "source": [
    "import pandas as pd"
   ]
  },
  {
   "cell_type": "code",
   "execution_count": null,
   "metadata": {},
   "outputs": [],
   "source": [
    "LT_Reversal = pd.read_csv('../fama_french_fct_data/F-F_LT_Reversal_Factor.csv')\n",
    "ST_Reversal = pd.read_csv('../fama_french_fct_data/F-F_LT_Reversal_Factor.csv')\n",
    "AC = pd.read_csv('../fama_french_fct_data/Portfolios_Formed_on_AC.csv')\n",
    "BETA = pd.read_csv('../fama_french_fct_data/Portfolios_Formed_on_BETA.csv')\n",
    "CFP = pd.read_csv('../fama_french_fct_data/Portfolios_Formed_on_CF-P_Wout_Div.csv')\n",
    "DP = pd.read_csv('../fama_french_fct_data/Portfolios_Formed_on_D-P_Wout_Div.csv')\n",
    "EP = pd.read_csv('../fama_french_fct_data/Portfolios_Formed_on_E-P_Wout_Div.csv')\n",
    "NI = pd.read_csv('../fama_french_fct_data/Portfolios_Formed_on_NI.csv')\n",
    "RESVAR = pd.read_csv('../fama_french_fct_data/Portfolios_Formed_on_RESVAR.csv')\n",
    "VAR = pd.read_csv('../fama_french_fct_data/Portfolios_Formed_on_VAR.csv')"
   ]
  },
  {
   "cell_type": "markdown",
   "metadata": {},
   "source": [
    "# Gather and Prepare Factor Data\n",
    "\n",
    "Obtain monthly returns for all factors from WRDS.\n",
    "\n",
    "Ensure each factor series is clean and correctly aligned with dates.\n",
    "\n",
    "Standardize factors if needed (e.g., mean-zero, unit-variance for statistical stability)."
   ]
  },
  {
   "cell_type": "markdown",
   "metadata": {},
   "source": [
    "# Initial Factor Diagnostics and Stationarity Checks\n",
    "\n",
    "Conduct ADF (Augmented Dickey-Fuller) and KPSS tests to verify time stationarity.\n",
    "\n",
    "Drop or adjust factors with serious non-stationary issues."
   ]
  },
  {
   "cell_type": "markdown",
   "metadata": {},
   "source": [
    "# Estimate Stock Factor Loadings (First Step of Fama-MacBeth)\n",
    "\n",
    "Run time-series regressions for each stock in your ETF portfolio (e.g., VHT) separately\n",
    "\n",
    "Get beta loadings (β) for each stock on each factor. Each stock has a vector of factor loadings."
   ]
  },
  {
   "cell_type": "markdown",
   "metadata": {},
   "source": [
    "# Fama-MacBeth Cross-sectional Regressions (Second Step)\n",
    "\n",
    "For each month t, run a cross-sectional regression across stocks, regressing returns on their betas estimated previously\n",
    "\n",
    "Obtain monthly factor risk premia (γ_j,t)\n",
    "\n",
    "Average monthly γ values to obtain mean factor premia (λ). Assess statistical significance of each factor"
   ]
  },
  {
   "cell_type": "markdown",
   "metadata": {},
   "source": [
    "# Use LASSO Regularization for Factor Selection\n",
    "\n",
    "After initial significance testing, use LASSO regression to select the most robust subset of factors.\n",
    "LASSO penalizes complexity (many factors), helping you find a sparse yet robust factor model\n",
    "\n",
    "\n",
    "Features: Use cross-sectional factor loadings (betas)\n",
    "\n",
    "Target variable: Returns\n",
    "\n",
    "LASSO selects subset of factors by shrinking insignificant factor coefficients to zero."
   ]
  },
  {
   "cell_type": "markdown",
   "metadata": {},
   "source": [
    "# Final Factor Set Validation\n",
    "\n",
    "Verify economic rationale: selected factors should align logically with financial theory.\n",
    "\n",
    "Run robustness checks (subsamples, different time periods)."
   ]
  },
  {
   "cell_type": "markdown",
   "metadata": {},
   "source": [
    "# Construct Tradable Benchmark Portfolio\n",
    "\n",
    "Form a tradable portfolio that replicates factor exposure: Long-short portfolios: typically long high-exposure stocks, short low-exposure stocks. Equally or value-weighted factor construction (typically value-weighted)."
   ]
  },
  {
   "cell_type": "markdown",
   "metadata": {},
   "source": [
    "# Benchmark Performance Analysis\n",
    "\n",
    "Compute cumulative returns, Sharpe ratios, Information ratios.\n",
    "\n",
    "Compare your benchmark returns against traditional models (e.g., Fama-French 5-factor or market returns) to justify effectiveness."
   ]
  }
 ],
 "metadata": {
  "kernelspec": {
   "display_name": "base",
   "language": "python",
   "name": "python3"
  },
  "language_info": {
   "codemirror_mode": {
    "name": "ipython",
    "version": 3
   },
   "file_extension": ".py",
   "mimetype": "text/x-python",
   "name": "python",
   "nbconvert_exporter": "python",
   "pygments_lexer": "ipython3",
   "version": "3.12.2"
  }
 },
 "nbformat": 4,
 "nbformat_minor": 2
}
